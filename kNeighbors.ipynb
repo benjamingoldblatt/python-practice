{
 "cells": [
  {
   "cell_type": "code",
   "execution_count": 1,
   "source": [
    "import numpy as np\n",
    "import pandas as pd\n",
    "\n",
    "books = pd.read_csv(\"/Users/benjamingoldblatt/webscraper/goodreads.csv\")\n",
    "ranked_books = books.sort_values(by=[\"rating\"], ascending=False)\n",
    "\n",
    "print(books)"
   ],
   "outputs": [
    {
     "output_type": "stream",
     "name": "stdout",
     "text": [
      "            genre                                              title  \\\n",
      "0             Art                         Ways of Seeing (Paperback)   \n",
      "1             Art                       The Story of Art (Hardcover)   \n",
      "2             Art  The New Drawing on the Right Side of the Brain...   \n",
      "3             Art  Steal Like an Artist: 10 Things Nobody Told Yo...   \n",
      "4             Art                         Wall and Piece (Paperback)   \n",
      "...           ...                                                ...   \n",
      "1097  More genres                    The Heart Goes Last (Hardcover)   \n",
      "1098  More genres     An Absolutely Remarkable Thing (The Carls, #1)   \n",
      "1099  More genres               Turtles All the Way Down (Hardcover)   \n",
      "1100  More genres     Not a Penny More, Not a Penny Less (Paperback)   \n",
      "1101  More genres      The Girl in the Spider's Web (Millennium, #4)   \n",
      "\n",
      "                 author  rating  reviews  year  \n",
      "0           John Berger    3.89   293165  1972  \n",
      "1         E.H. Gombrich    3.94   345375  1950  \n",
      "2         Betty Edwards    3.87   316283  1979  \n",
      "3          Austin Kleon    3.94   230964  2012  \n",
      "4                Banksy    3.85   212073  2005  \n",
      "...                 ...     ...      ...   ...  \n",
      "1097    Margaret Atwood    3.38    58419  2015  \n",
      "1098         Hank Green    4.03    81362  2018  \n",
      "1099         John Green    3.93   395073  2017  \n",
      "1100     Jeffrey Archer    4.03    39590  1976  \n",
      "1101  David Lagercrantz    3.77   152285  2015  \n",
      "\n",
      "[1102 rows x 6 columns]\n"
     ]
    }
   ],
   "metadata": {}
  },
  {
   "cell_type": "code",
   "execution_count": 56,
   "source": [
    "from sklearn.neighbors import KNeighborsClassifier\n",
    "from sklearn.model_selection import train_test_split \n",
    "\n",
    "y = books['genre'].values\n",
    "X = books.drop(['genre','title','author', 'rating', 'reviews'], axis=1).values\n",
    "print(y)\n",
    "print(X)\n",
    "\n",
    "X_train, X_test, y_train, y_test = train_test_split(X, y, test_size = 0.4, random_state=3, stratify=y)\n",
    "\n",
    "# Create a k-NN classifier with 7 neighbors: knn\n",
    "knn = KNeighborsClassifier(n_neighbors=10)\n",
    "\n",
    "# Fit the classifier to the training data\n",
    "knn.fit(X_train, y_train)\n",
    "\n",
    "# Print the accuracy\n",
    "print(knn.score(X_test, y_test))\n"
   ],
   "outputs": [
    {
     "output_type": "stream",
     "name": "stdout",
     "text": [
      "['Art' 'Art' 'Art' ... 'More genres' 'More genres' 'More genres']\n",
      "[[1972]\n",
      " [1950]\n",
      " [1979]\n",
      " ...\n",
      " [2017]\n",
      " [1976]\n",
      " [2015]]\n",
      "0.10204081632653061\n"
     ]
    }
   ],
   "metadata": {}
  }
 ],
 "metadata": {
  "orig_nbformat": 4,
  "language_info": {
   "name": "python",
   "version": "3.8.2",
   "mimetype": "text/x-python",
   "codemirror_mode": {
    "name": "ipython",
    "version": 3
   },
   "pygments_lexer": "ipython3",
   "nbconvert_exporter": "python",
   "file_extension": ".py"
  },
  "kernelspec": {
   "name": "python3",
   "display_name": "Python 3.8.2 64-bit"
  },
  "interpreter": {
   "hash": "31f2aee4e71d21fbe5cf8b01ff0e069b9275f58929596ceb00d14d90e3e16cd6"
  }
 },
 "nbformat": 4,
 "nbformat_minor": 2
}