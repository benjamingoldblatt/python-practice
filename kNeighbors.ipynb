{
 "cells": [
  {
   "cell_type": "code",
   "execution_count": 55,
   "source": [
    "import numpy as np\n",
    "import pandas as pd\n",
    "\n",
    "books = pd.read_csv(\"/Users/benjamingoldblatt/webscraper/goodreads.csv\")\n",
    "ranked_books = books.sort_values(by=[\"rating\"], ascending=False)\n",
    "\n",
    "print(ranked_books)"
   ],
   "outputs": [
    {
     "output_type": "stream",
     "name": "stdout",
     "text": [
      "               genre                                              title  \\\n",
      "616           Memoir                               Know My Name (ebook)   \n",
      "165       Children's  Harry Potter and the Deathly Hallows (Harry Po...   \n",
      "475   Graphic Novels         Heartstopper: Volume Two (Heartstopper #2)   \n",
      "435          Fantasy      The Way of Kings (The Stormlight Archive, #1)   \n",
      "240        Christian     An Echo in the Darkness (Mark of the Lion, #2)   \n",
      "...              ...                                                ...   \n",
      "750           Poetry                                Beowulf (Paperback)   \n",
      "1059          Travel            Bill Bryson's African Diary (Hardcover)   \n",
      "603           Horror                  The Turn of the Screw (Paperback)   \n",
      "262         Classics                     The Scarlet Letter (Paperback)   \n",
      "1097     More genres                    The Heart Goes Last (Hardcover)   \n",
      "\n",
      "                   author  rating  reviews  year  \n",
      "616         Chanel Miller    4.72   103482  2019  \n",
      "165          J.K. Rowling    4.61  3087928  2007  \n",
      "475          Alice Oseman    4.61    96441  2019  \n",
      "435     Brandon Sanderson    4.60   361417  2010  \n",
      "240       Francine Rivers    4.60    45431  1994  \n",
      "...                   ...     ...      ...   ...  \n",
      "750               Unknown    3.46   260976   900  \n",
      "1059          Bill Bryson    3.46     9030  2002  \n",
      "603           Henry James    3.43   124744  1898  \n",
      "262   Nathaniel Hawthorne    3.42   754277  1850  \n",
      "1097      Margaret Atwood    3.38    58419  2015  \n",
      "\n",
      "[1102 rows x 6 columns]\n"
     ]
    }
   ],
   "metadata": {}
  },
  {
   "cell_type": "code",
   "execution_count": 56,
   "source": [
    "from sklearn.neighbors import KNeighborsClassifier\n",
    "from sklearn.model_selection import train_test_split \n",
    "\n",
    "y = books['genre'].values\n",
    "X = books.drop(['genre','title','author', 'rating', 'reviews'], axis=1).values\n",
    "print(y)\n",
    "print(X)\n",
    "\n",
    "X_train, X_test, y_train, y_test = train_test_split(X, y, test_size = 0.4, random_state=3, stratify=y)\n",
    "\n",
    "# Create a k-NN classifier with 7 neighbors: knn\n",
    "knn = KNeighborsClassifier(n_neighbors=10)\n",
    "\n",
    "# Fit the classifier to the training data\n",
    "knn.fit(X_train, y_train)\n",
    "\n",
    "# Print the accuracy\n",
    "print(knn.score(X_test, y_test))\n"
   ],
   "outputs": [
    {
     "output_type": "stream",
     "name": "stdout",
     "text": [
      "['Art' 'Art' 'Art' ... 'More genres' 'More genres' 'More genres']\n",
      "[[1972]\n",
      " [1950]\n",
      " [1979]\n",
      " ...\n",
      " [2017]\n",
      " [1976]\n",
      " [2015]]\n",
      "0.10204081632653061\n"
     ]
    }
   ],
   "metadata": {}
  }
 ],
 "metadata": {
  "orig_nbformat": 4,
  "language_info": {
   "name": "python",
   "version": "3.8.2",
   "mimetype": "text/x-python",
   "codemirror_mode": {
    "name": "ipython",
    "version": 3
   },
   "pygments_lexer": "ipython3",
   "nbconvert_exporter": "python",
   "file_extension": ".py"
  },
  "kernelspec": {
   "name": "python3",
   "display_name": "Python 3.8.2 64-bit"
  },
  "interpreter": {
   "hash": "31f2aee4e71d21fbe5cf8b01ff0e069b9275f58929596ceb00d14d90e3e16cd6"
  }
 },
 "nbformat": 4,
 "nbformat_minor": 2
}